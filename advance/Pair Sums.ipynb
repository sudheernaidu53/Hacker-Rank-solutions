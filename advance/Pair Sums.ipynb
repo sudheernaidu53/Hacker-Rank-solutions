{
 "cells": [
  {
   "cell_type": "markdown",
   "metadata": {},
   "source": [
    "Given an array, we define its value to be the value obtained by following these instructions:\n",
    "\n",
    "Write down all pairs of numbers from this array.\n",
    "Compute the product of each pair.\n",
    "Find the sum of all the products.\n",
    "For example, for a given array, for a given array [, , , ],\n",
    "\n",
    "Pairs\t(7, 2), (7, -1), (7, 2), (2, -1), (2, 2), (-1, 2)\n",
    "Products of the pairs\t14, -7, 14, -2, 4, -2\n",
    "Sum of the products\t14 + (-7) + 14 + (-2) + 4 + (-2) = \n",
    "Note that  is listed twice, one for each occurrence of .\n",
    "\n",
    "Given an array of integers, find the largest value of any of its nonempty subarrays.\n",
    "\n",
    "Note: A subarray is a contiguous subsequence of the array.\n",
    "\n",
    "Complete the function largestValue which takes an array and returns an integer denoting the largest value of any of the array's nonempty subarrays.\n",
    "\n",
    "Input Format\n",
    "\n",
    "The first line contains a single integer , denoting the number of integers in array . \n",
    "The second line contains  space-separated integers  denoting the elements of array .\n",
    "\n",
    "Constraints\n",
    "\n",
    "Subtasks\n",
    "\n",
    " for 20% of the points.\n",
    " for 70% of the points.\n",
    "Output Format\n",
    "\n",
    "Print a single line containing a single integer denoting the largest value of any of the array's nonempty subarrays.\n",
    "\n",
    "Sample Input 0\n",
    "\n",
    "6\n",
    "-3 7 -2 3 5 -2\n",
    "Sample Output 0\n",
    "\n",
    "41\n",
    "Explanation 0\n",
    "\n",
    "In this case, we have . The largest-valued subarray turns out to be  with value .\n",
    "\n",
    "Sample Input 1\n",
    "\n",
    "10\n",
    "5 7 -5 6 3 9 -8 2 -1 10\n",
    "Sample Output 1\n",
    "\n",
    "200"
   ]
  },
  {
   "cell_type": "code",
   "execution_count": null,
   "metadata": {},
   "outputs": [],
   "source": [
    "\n",
    "if __name__ == '__main__':\n",
    "    n = int(input())\n",
    "    l = list(map(int, input().strip().split()))"
   ]
  }
 ],
 "metadata": {
  "kernelspec": {
   "display_name": "Python 3",
   "language": "python",
   "name": "python3"
  },
  "language_info": {
   "codemirror_mode": {
    "name": "ipython",
    "version": 3
   },
   "file_extension": ".py",
   "mimetype": "text/x-python",
   "name": "python",
   "nbconvert_exporter": "python",
   "pygments_lexer": "ipython3",
   "version": "3.7.3"
  }
 },
 "nbformat": 4,
 "nbformat_minor": 2
}
