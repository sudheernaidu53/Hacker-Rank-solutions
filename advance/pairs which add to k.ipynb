{
 "cells": [
  {
   "cell_type": "markdown",
   "metadata": {},
   "source": [
    "Given an integer array, output all pairs that sum up to a specific value k. Consider the fact that the same number can add up to k with its duplicates in the array.\n",
    "\n",
    "For example the array is [1, 1, 2, 3, 4] and the desired sum is 4. Should we output the pair (1, 3) twice or just once? Also do we output the reverse of a pair, meaning both (3, 1) and (1, 3)? Let’s keep the output as short as possible and print each pair only once. So, we will output only one copy of (1, 3). Also note that we shouldn’t output (2, 2) because it’s not a pair of two distinct elements.\n",
    "\n",
    "Example\n",
    "f(10, [3, 4, 5, 6, 7]) // [ [6, 4], [7, 3] ]\n",
    "f(8, [3, 4, 5, 4, 4]) // [ [3, 5], [4, 4], [4, 4], [4, 4] ]"
   ]
  },
  {
   "cell_type": "code",
   "execution_count": 3,
   "metadata": {},
   "outputs": [
    {
     "name": "stdout",
     "output_type": "stream",
     "text": [
      "{(3, 7), (4, 6)}\n",
      "{(4, 4), (3, 5)}\n",
      "[]\n",
      "{(-4, 4)}\n"
     ]
    }
   ],
   "source": [
    "def pairs_brute(k, arr):\n",
    "    \"\"\"\n",
    "    Runtime: O(n^2)\n",
    "    \"\"\"\n",
    "    if len(arr) < 2:\n",
    "        return []\n",
    "    pairs = []\n",
    "    for i, n1 in enumerate(arr):\n",
    "        for n2 in arr[i+1:]:\n",
    "            if n1 + n2 == k:\n",
    "                pairs.append([n1,n2])\n",
    "    return pairs\n",
    "\n",
    "def pairs_sort(k, arr):\n",
    "    \"\"\"\n",
    "    Runtime: O(n^2)\n",
    "    By sorting, we can avoid some unnecessary comparisons.\n",
    "    \"\"\"\n",
    "    if len(arr) < 2:\n",
    "        return []\n",
    "    pairs = []\n",
    "    arr.sort()\n",
    "    for i, n1 in enumerate(arr):\n",
    "        for n2 in arr[i+1:]:\n",
    "            if n1 + n2 > k:\n",
    "                # All other pairs will\n",
    "                # be bigger than k. Stop.\n",
    "                break\n",
    "            if n1 + n2 == k:\n",
    "                pairs.append([n1,n2])\n",
    "    return pairs\n",
    "\n",
    "def pairs(k, arr):\n",
    "    \"\"\"\n",
    "    Runtime: O(n * log n)\n",
    "    After sorting, we can iterate through the\n",
    "    list from both sides in O(n) to find the pairs.\n",
    "    \"\"\"\n",
    "    arr.sort()\n",
    "    if len(arr) < 2:\n",
    "        return []\n",
    "    pairs = []\n",
    "    start = 0\n",
    "    end = len(arr)-1\n",
    "    while (start < end):\n",
    "        n1 = arr[start]\n",
    "        n2 = arr[end]\n",
    "        pair = n1 + n2\n",
    "        if pair < k:\n",
    "            start += 1\n",
    "        if pair > k:\n",
    "            end -= 1\n",
    "        if pair == k:\n",
    "            pairs.append([n1,n2])\n",
    "            start += 1\n",
    "            end-=1\n",
    "    return pairs\n",
    "\n",
    "\n",
    "def pairs_lin(k, arr):\n",
    "    \"\"\"\n",
    "    Runtime: O(n)\n",
    "    Adapted from: \n",
    "    ardendertat.com/2011/09/17/programming-interview-questions-1-array-pair-sum\n",
    "    \"\"\"\n",
    "    if len(arr) < 2:\n",
    "        return []\n",
    "    output = set()\n",
    "    seen = set()\n",
    "    for num in arr:\n",
    "        target=k-num\n",
    "        if target not in seen:\n",
    "            seen.add(num)\n",
    "        else:\n",
    "            output.add( (min(num, target), max(num, target)))\n",
    "#     print '\\n'.join( map(str, list(output)) )\n",
    "    return output\n",
    "\n",
    "\n",
    "print (pairs_lin(10, [3, 4, 5, 6, 7])) # [[6, 4], [7, 3]]\n",
    "print (pairs_lin(8, [3, 4, 5, 4, 4])) # [[3, 5], [4, 4], [4, 4], [4, 4]]\n",
    "print (pairs_lin(8, [4])) # []\n",
    "print (pairs_lin(0, [4,-4])) # [[-4,4]]"
   ]
  },
  {
   "cell_type": "markdown",
   "metadata": {},
   "source": [
    " ### Insert and find operations of a set are both average O(1)"
   ]
  },
  {
   "cell_type": "code",
   "execution_count": null,
   "metadata": {},
   "outputs": [],
   "source": []
  }
 ],
 "metadata": {
  "kernelspec": {
   "display_name": "Python 3",
   "language": "python",
   "name": "python3"
  },
  "language_info": {
   "codemirror_mode": {
    "name": "ipython",
    "version": 3
   },
   "file_extension": ".py",
   "mimetype": "text/x-python",
   "name": "python",
   "nbconvert_exporter": "python",
   "pygments_lexer": "ipython3",
   "version": "3.7.3"
  }
 },
 "nbformat": 4,
 "nbformat_minor": 2
}
