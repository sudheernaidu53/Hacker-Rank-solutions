{
 "cells": [
  {
   "cell_type": "code",
   "execution_count": 3,
   "metadata": {},
   "outputs": [],
   "source": [
    "from collections import defaultdict"
   ]
  },
  {
   "cell_type": "code",
   "execution_count": 14,
   "metadata": {},
   "outputs": [],
   "source": [
    "def isValid(s):\n",
    "    freq = defaultdict(lambda:0)\n",
    "    freqtrack = defaultdict(lambda:0)\n",
    "    freqtrack[0] = 26\n",
    "    for i in (s):\n",
    "        temp = freq[i]\n",
    "        freq[i]+=1\n",
    "        freqtrack[temp]-=1\n",
    "        freqtrack[temp+1]+=1\n",
    "        # freqtrack[temp].remove(i)\n",
    "        # freqtrack[temp+1].append(i)\n",
    "    print(freqtrack)\n",
    "    temp_list = list(freqtrack.keys())\n",
    "    temp_list.remove(0)\n",
    "    print(temp_list)\n",
    "    count =0\n",
    "    for i in temp_list:\n",
    "        if freqtrack[i]>0:\n",
    "            count+=1\n",
    "    if count>2:\n",
    "        return 'NO'\n",
    "    elif count==1:\n",
    "        return 'YES'\n",
    "    else:\n",
    "        # indices = list(freqtrack.keys())-[0]\n",
    "        indices=[]\n",
    "        for i in temp_list:\n",
    "            if freqtrack[i]>0:\n",
    "                indices.append(i)\n",
    "        if (freqtrack[indices[0]]>1) and (freqtrack[indices[1]]>1):\n",
    "            return 'NO'\n",
    "    return 'YES'"
   ]
  },
  {
   "cell_type": "code",
   "execution_count": 15,
   "metadata": {},
   "outputs": [
    {
     "name": "stdout",
     "output_type": "stream",
     "text": [
      "defaultdict(<function isValid.<locals>.<lambda> at 0x000001E54A1568C8>, {0: 17, 1: 4, 2: 5})\n",
      "[1, 2]\n",
      "NO\n",
      "defaultdict(<function isValid.<locals>.<lambda> at 0x000001E54A156840>, {0: 22, 1: 2, 2: 2})\n",
      "[1, 2]\n",
      "NO\n",
      "defaultdict(<function isValid.<locals>.<lambda> at 0x000001E54A156378>, {0: 18, 1: 0, 2: 7, 3: 1})\n",
      "[1, 2, 3]\n",
      "YES\n"
     ]
    }
   ],
   "source": [
    "print(isValid('aabbccddeefghi'))#should be NO\n",
    "print(isValid('aabbcd'))#should be NO\n",
    "print(isValid('abcdefghhgfedecba')) #should be yes"
   ]
  },
  {
   "cell_type": "code",
   "execution_count": null,
   "metadata": {},
   "outputs": [],
   "source": []
  }
 ],
 "metadata": {
  "kernelspec": {
   "display_name": "Python 3",
   "language": "python",
   "name": "python3"
  },
  "language_info": {
   "codemirror_mode": {
    "name": "ipython",
    "version": 3
   },
   "file_extension": ".py",
   "mimetype": "text/x-python",
   "name": "python",
   "nbconvert_exporter": "python",
   "pygments_lexer": "ipython3",
   "version": "3.7.3"
  }
 },
 "nbformat": 4,
 "nbformat_minor": 2
}
