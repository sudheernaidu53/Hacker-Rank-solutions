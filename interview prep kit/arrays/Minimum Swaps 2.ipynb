{
 "cells": [
  {
   "cell_type": "code",
   "execution_count": null,
   "metadata": {},
   "outputs": [],
   "source": [
    "You are given an unordered array consisting of consecutive integers  [1, 2, 3, ..., n] without any duplicates. You are allowed to swap any two elements. You need to find the minimum number of swaps required to sort the array in ascending order.\n",
    "\n",
    "For example, given the array  we perform the following steps:\n",
    "\n",
    "i   arr                         swap (indices)\n",
    "0   [7, 1, 3, 2, 4, 5, 6]   swap (0,3)\n",
    "1   [2, 1, 3, 7, 4, 5, 6]   swap (0,1)\n",
    "2   [1, 2, 3, 7, 4, 5, 6]   swap (3,4)\n",
    "3   [1, 2, 3, 4, 7, 5, 6]   swap (4,5)\n",
    "4   [1, 2, 3, 4, 5, 7, 6]   swap (5,6)\n",
    "5   [1, 2, 3, 4, 5, 6, 7]\n",
    "It took  swaps to sort the array."
   ]
  },
  {
   "cell_type": "code",
   "execution_count": 10,
   "metadata": {},
   "outputs": [
    {
     "name": "stdout",
     "output_type": "stream",
     "text": [
      "4\n",
      "4 3 1 2\n",
      "start 1\n",
      "continues 4\n",
      "continues 2\n",
      "continues 3\n",
      "end 3\n",
      "start 2\n",
      "end 0\n",
      "start 3\n",
      "end 0\n",
      "start 4\n",
      "end 0\n",
      "3\n"
     ]
    }
   ],
   "source": [
    "#!/bin/python3\n",
    "\n",
    "import math\n",
    "import os\n",
    "import random\n",
    "import re\n",
    "import sys\n",
    "\n",
    "# Complete the minimumSwaps function below.\n",
    "def findcycle(arr,visited,i,cycle_len):\n",
    "    if visited[arr[i]-1]==-1:\n",
    "        return cycle_len\n",
    "    else:\n",
    "        visited[arr[i]-1]=-1\n",
    "        print('continues',arr[i])\n",
    "        return findcycle(arr,visited,arr[i]-1,cycle_len+1)\n",
    "\n",
    "def minimumSwaps(arr):\n",
    "    visited = [0]*len(arr) #0 is not visited -1 is visited\n",
    "    i = 0\n",
    "    num_swaps = 0\n",
    "    cycle_len = 0\n",
    "    while i<len(arr):\n",
    "        if visited!=-1:\n",
    "            if (i+1) == arr[i]:\n",
    "                visited[i]=-1\n",
    "#                 i+=1\n",
    "            else:\n",
    "                visited[i]=-1\n",
    "                print('start',i+1)\n",
    "                cycle_len = findcycle(arr,visited,i,0)\n",
    "                print('end',cycle_len)\n",
    "                num_swaps+=cycle_len\n",
    "            i+=1\n",
    "    return num_swaps\n",
    "                \n",
    "if __name__ == '__main__':\n",
    "#     fptr = open(os.environ['OUTPUT_PATH'], 'w')\n",
    "\n",
    "    n = int(input())\n",
    "\n",
    "    arr = list(map(int, input().rstrip().split()))\n",
    "\n",
    "    res = minimumSwaps(arr)\n",
    "    print(res)\n",
    "\n",
    "#     fptr.write(str(res) + '\\n')\n",
    "\n",
    "#     fptr.close()\n"
   ]
  },
  {
   "cell_type": "code",
   "execution_count": 17,
   "metadata": {},
   "outputs": [
    {
     "data": {
      "text/plain": [
       "[(0, 1), (1, 2), (3, 3), (2, 4)]"
      ]
     },
     "execution_count": 17,
     "metadata": {},
     "output_type": "execute_result"
    }
   ],
   "source": [
    "ok = [*enumerate([1,2,4,3])]\n",
    "ok.sort(key = lambda it:it[1]) \n",
    "ok"
   ]
  },
  {
   "cell_type": "code",
   "execution_count": 15,
   "metadata": {},
   "outputs": [
    {
     "name": "stdout",
     "output_type": "stream",
     "text": [
      "7\n",
      "1 3 5 2 4 6 7\n",
      "3\n"
     ]
    }
   ],
   "source": [
    "def minSwaps(arr): \n",
    "    n = len(arr) \n",
    "      \n",
    "    # Create two arrays and use  as pairs where first array  is element and second array is position of first element \n",
    "    arrpos = [*enumerate(arr)] \n",
    "      \n",
    "    # Sort the array by array element  values to get right position of  every element as the elements of second array. \n",
    "    arrpos.sort(key = lambda it:it[1]) \n",
    "      \n",
    "    # To keep track of visited elements. Initialize all elements as not  visited or false. \n",
    "    vis = {k:False for k in range(n)} \n",
    "      \n",
    "    # Initialize result \n",
    "    ans = 0\n",
    "    for i in range(n): \n",
    "          \n",
    "        # alreadt swapped or alreadt present at  correct position \n",
    "        if vis[i] or arrpos[i][0] == i: \n",
    "            continue\n",
    "              \n",
    "        # find number of nodes  in this cycle and add it to ans \n",
    "        cycle_size = 0\n",
    "        j = i \n",
    "        while not vis[j]: \n",
    "              \n",
    "            # mark node as visited \n",
    "            vis[j] = True\n",
    "              \n",
    "            # move to next node \n",
    "            j = arrpos[j][0] \n",
    "            cycle_size += 1\n",
    "              \n",
    "        # update answer by adding \n",
    "        # current cycle \n",
    "        if cycle_size > 0: \n",
    "            ans += (cycle_size - 1) \n",
    "    # return answer \n",
    "    return ans \n",
    "if __name__ == '__main__':\n",
    "#     fptr = open(os.environ['OUTPUT_PATH'], 'w')\n",
    "\n",
    "    n = int(input())\n",
    "\n",
    "    arr = list(map(int, input().rstrip().split()))\n",
    "\n",
    "    res = minSwaps(arr)\n",
    "    print(res)"
   ]
  },
  {
   "cell_type": "code",
   "execution_count": null,
   "metadata": {},
   "outputs": [],
   "source": []
  }
 ],
 "metadata": {
  "kernelspec": {
   "display_name": "Python 3",
   "language": "python",
   "name": "python3"
  },
  "language_info": {
   "codemirror_mode": {
    "name": "ipython",
    "version": 3
   },
   "file_extension": ".py",
   "mimetype": "text/x-python",
   "name": "python",
   "nbconvert_exporter": "python",
   "pygments_lexer": "ipython3",
   "version": "3.7.3"
  }
 },
 "nbformat": 4,
 "nbformat_minor": 2
}
