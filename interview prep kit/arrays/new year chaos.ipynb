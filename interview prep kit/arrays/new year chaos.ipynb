{
 "cells": [
  {
   "cell_type": "code",
   "execution_count": 4,
   "metadata": {},
   "outputs": [
    {
     "name": "stdout",
     "output_type": "stream",
     "text": [
      "1\n",
      "5\n",
      "2 5 1 3 4\n",
      "2 0\n",
      "5 1\n",
      "Too chaotic\n"
     ]
    }
   ],
   "source": [
    "#!/bin/python3\n",
    "\n",
    "import math\n",
    "import os\n",
    "import random\n",
    "import re\n",
    "import sys\n",
    "\n",
    "# Complete the minimumBribes function below.\n",
    "def minimumBribes(q):\n",
    "    for i in range(len(q)):\n",
    "        print(q[i],i)\n",
    "        if (q[i]>(i+3)) or (q[i]<(i-3)):\n",
    "            return 'Too chaotic'\n",
    "        else:\n",
    "            temp_sum = 0\n",
    "            for i in range(len(q)):\n",
    "                temp_sum+=(abs(q[i]-i-1))\n",
    "    return int(temp_sum/2)\n",
    "if __name__ == '__main__':\n",
    "    t = int(input())\n",
    "\n",
    "    for t_itr in range(t):\n",
    "        n = int(input())\n",
    "\n",
    "        q = list(map(int, input().rstrip().split()))\n",
    "\n",
    "        print(minimumBribes(q))\n"
   ]
  },
  {
   "cell_type": "code",
   "execution_count": 8,
   "metadata": {},
   "outputs": [
    {
     "name": "stdout",
     "output_type": "stream",
     "text": [
      "1\n",
      "8\n",
      "1 2 5 3 7 8 6 4\n",
      "7\n"
     ]
    }
   ],
   "source": [
    "#!/bin/python3\n",
    "\n",
    "import math\n",
    "import os\n",
    "import random\n",
    "import re\n",
    "import sys\n",
    "\n",
    "# Complete the minimumBribes function below.\n",
    "def minimumBribes(q):\n",
    "    moves = 0\n",
    "    for pos, val in enumerate(q):\n",
    "        if (val-1) - pos > 2:\n",
    "            return \"Too chaotic\"\n",
    "#         print(val-2,pos)\n",
    "        for j in range(max(0,val-2), pos):\n",
    "            if q[j] > val:\n",
    "#                 print('ha',q[j],j,val)\n",
    "                moves+=1\n",
    "    return moves\n",
    "if __name__ == '__main__':\n",
    "    t = int(input())\n",
    "\n",
    "    for t_itr in range(t):\n",
    "        n = int(input())\n",
    "\n",
    "        q = list(map(int, input().rstrip().split()))\n",
    "\n",
    "        print(minimumBribes(q))\n"
   ]
  },
  {
   "cell_type": "code",
   "execution_count": null,
   "metadata": {},
   "outputs": [],
   "source": []
  }
 ],
 "metadata": {
  "kernelspec": {
   "display_name": "Python 3",
   "language": "python",
   "name": "python3"
  },
  "language_info": {
   "codemirror_mode": {
    "name": "ipython",
    "version": 3
   },
   "file_extension": ".py",
   "mimetype": "text/x-python",
   "name": "python",
   "nbconvert_exporter": "python",
   "pygments_lexer": "ipython3",
   "version": "3.7.3"
  }
 },
 "nbformat": 4,
 "nbformat_minor": 2
}
