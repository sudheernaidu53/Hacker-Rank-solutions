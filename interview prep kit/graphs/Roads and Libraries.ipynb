{
 "cells": [
  {
   "cell_type": "markdown",
   "metadata": {},
   "source": [
    "[this problem](https://www.hackerrank.com/challenges/torque-and-development/problem?h_l=interview&playlist_slugs%5B%5D%5B%5D=interview-preparation-kit&playlist_slugs%5B%5D%5B%5D=graphs) from hackerrank"
   ]
  },
  {
   "cell_type": "markdown",
   "metadata": {},
   "source": [
    "The Ruler of HackerLand believes that every citizen of the country should have access to a library. Unfortunately, HackerLand was hit by a tornado that destroyed all of its libraries and obstructed its roads! As you are the greatest programmer of HackerLand, the ruler wants your help to repair the roads and build some new libraries efficiently.\n",
    "\n",
    "HackerLand has  cities numbered from  to . The cities are connected by  bidirectional roads. A citizen has access to a library if:\n",
    "\n",
    "Their city contains a library.\n",
    "They can travel by road from their city to a city containing a library.\n",
    "The following figure is a sample map of HackerLand where the dotted lines denote obstructed roads:"
   ]
  },
  {
   "cell_type": "markdown",
   "metadata": {},
   "source": [
    "The first line contains a single integer , that denotes the number of queries.\n",
    "\n",
    "The subsequent lines describe each query in the following format: \n",
    "- The first line contains four space-separated integers that describe the respective values of , ,  and , the number of cities, number of roads, cost of a library and cost of a road. \n",
    "- Each of the next  lines contains two space-separated integers,  and , that describe a bidirectional road that connects cities  and ."
   ]
  },
  {
   "cell_type": "markdown",
   "metadata": {},
   "source": [
    "It depends on the problem.\n",
    "\n",
    "**Adjacency Matrix**\n",
    "\n",
    "- Uses O(n^2) memory\n",
    "- It is fast to lookup and check for presence or absence of a specific edge\n",
    "- between any two nodes O(1)\n",
    "- It is slow to iterate over all edges\n",
    "- It is slow to add/delete a node; a complex operation O(n^2)\n",
    "- It is fast to add a new edge O(1)\n",
    "\n",
    "**Adjacency List**\n",
    "\n",
    "- Memory usage depends on the number of edges (not number of nodes),\n",
    "- which might save a lot of memory if the adjacency matrix is sparse\n",
    "- Finding the presence or absence of specific edge between any two nodes\n",
    "- is slightly slower than with the matrix O(k); where k is the number of neighbors nodes\n",
    "- It is fast to iterate over all edges because you can access any node neighbors directly\n",
    "- It is fast to add/delete a node; easier than the matrix representation\n",
    "- It fast to add a new edge O(1)"
   ]
  },
  {
   "cell_type": "code",
   "execution_count": null,
   "metadata": {},
   "outputs": [],
   "source": [
    "#!/bin/python3\n",
    "\n",
    "import math\n",
    "import os\n",
    "import random\n",
    "import re\n",
    "import sys\n",
    "\n",
    "# Complete the roadsAndLibraries function below.\n",
    "def roadsAndLibraries(n, c_lib, c_road, cities):\n",
    "\n",
    "if __name__ == '__main__':\n",
    "    fptr = open(os.environ['OUTPUT_PATH'], 'w')\n",
    "\n",
    "    q = int(input())\n",
    "\n",
    "    for q_itr in range(q):\n",
    "        nmC_libC_road = input().split()\n",
    "\n",
    "        n = int(nmC_libC_road[0])\n",
    "\n",
    "        m = int(nmC_libC_road[1])\n",
    "\n",
    "        c_lib = int(nmC_libC_road[2])\n",
    "\n",
    "        c_road = int(nmC_libC_road[3])\n",
    "\n",
    "        cities = []\n",
    "\n",
    "        for _ in range(m):\n",
    "            cities.append(list(map(int, input().rstrip().split())))\n",
    "\n",
    "        result = roadsAndLibraries(n, c_lib, c_road, cities)\n",
    "\n",
    "        fptr.write(str(result) + '\\n')\n",
    "\n",
    "    fptr.close()\n"
   ]
  },
  {
   "cell_type": "code",
   "execution_count": null,
   "metadata": {},
   "outputs": [],
   "source": [
    "2\n",
    "3 3 2 1\n",
    "1 2\n",
    "3 1\n",
    "2 3\n",
    "6 6 2 5\n",
    "1 3\n",
    "3 4\n",
    "2 4\n",
    "1 2\n",
    "2 3\n",
    "5 6\n",
    "Sample Output\n",
    "\n",
    "4\n",
    "12\n"
   ]
  },
  {
   "cell_type": "code",
   "execution_count": 30,
   "metadata": {},
   "outputs": [
    {
     "name": "stdout",
     "output_type": "stream",
     "text": [
      "2\n",
      "3 3 2 1\n",
      "1 2 3 1 2 3\n",
      "4\n",
      "6 6 2 5\n",
      "1 3 3 4 2 4 1 2 2 3 5 6\n",
      "12\n"
     ]
    }
   ],
   "source": [
    "def adjalist(edges):\n",
    "    '''function to create adjacency list'''\n",
    "    adjlist = {}\n",
    "    for edge in edges:\n",
    "        if adjlist.get(edge[0]):\n",
    "            adjlist[edge[0]].append(edge[1])\n",
    "        else:\n",
    "            adjlist[edge[0]] = [edge[1]]\n",
    "        if adjlist.get(edge[1]):\n",
    "            adjlist[edge[1]].append(edge[0])\n",
    "        else:\n",
    "            adjlist[edge[1]] = [edge[0]]\n",
    "#         adjlist.get(edge[0],[]).append(edge[1])\n",
    "#         adjlist.get(edge[1],[]).append(edge[0])\n",
    "    return adjlist\n",
    "from collections import deque\n",
    "\n",
    "def roadsandlibs(num_cities,lib_cost,road_cost,edges):\n",
    "    '''if library cost is less than city cost, we can simply build libraries in every single city'''\n",
    "    if lib_cost < road_cost:\n",
    "        return num_cities*lib_cost\n",
    "    \n",
    "#     '''mind that the cities are named from 1 to n'''\n",
    "    else:\n",
    "        adjlist = adjalist(edges)\n",
    "#         print(adjlist)\n",
    "        connected = {}\n",
    "        visited = [False]*(num_cities+1)\n",
    "        q = deque()\n",
    "        road_count = 0\n",
    "        library_count = 0\n",
    "        for city in range(1,num_cities+1):\n",
    "            if not visited[city]:\n",
    "                library_count+=1\n",
    "                q.append(city)\n",
    "                visited[city] = True\n",
    "                while q:\n",
    "                    curr_city = q.pop()\n",
    "                    if curr_city in adjlist:\n",
    "                        for adj_city in adjlist[curr_city]:\n",
    "                            if not visited[adj_city]:\n",
    "                                road_count+=1\n",
    "                                q.append(adj_city)\n",
    "                                visited[adj_city]=True\n",
    "#         print(road_count, library_count, road_cost, lib_cost)\n",
    "        return library_count*lib_cost + road_count*road_cost\n",
    "    \n",
    "\n",
    "for testcase in range(int(input())):\n",
    "    num_cities, num_roads, lib_cost, road_cost = map(int,input().strip().split())\n",
    "    edge = list(map(int,input().strip().split()))\n",
    "#     print(edge)\n",
    "    edges = [[edge[::2][i], edge[1::2][i]] for i in range(len(edge)//2)]\n",
    "#     print(edges)\n",
    "    print(roadsandlibs(num_cities,lib_cost,road_cost,edges))"
   ]
  }
 ],
 "metadata": {
  "kernelspec": {
   "display_name": "Python 3",
   "language": "python",
   "name": "python3"
  },
  "language_info": {
   "codemirror_mode": {
    "name": "ipython",
    "version": 3
   },
   "file_extension": ".py",
   "mimetype": "text/x-python",
   "name": "python",
   "nbconvert_exporter": "python",
   "pygments_lexer": "ipython3",
   "version": "3.6.5"
  }
 },
 "nbformat": 4,
 "nbformat_minor": 2
}
