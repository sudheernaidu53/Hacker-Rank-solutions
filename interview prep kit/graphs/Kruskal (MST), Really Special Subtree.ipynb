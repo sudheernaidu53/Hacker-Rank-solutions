{
 "cells": [
  {
   "cell_type": "markdown",
   "metadata": {},
   "source": [
    "Given an undirected weighted connected graph, find the Really Special SubTree in it. The Really Special SubTree is defined as a subgraph consisting of all the nodes in the graph and:\n",
    "\n",
    "There is only one exclusive path from a node to every other node.\n",
    "The subgraph is of minimum overall weight (sum of all edges) among all such subgraphs.\n",
    "No cycles are formed\n",
    "To create the Really Special SubTree, always pick the edge with smallest weight. Determine if including it will create a cycle. If so, ignore the edge. If there are edges of equal weight available:\n",
    "\n",
    "Choose the edge that minimizes the sum  where  and  are vertices and  is the edge weight.\n",
    "If there is still a collision, choose any of them.\n",
    "Print the overall weight of the tree formed using the rules.\n",
    "\n",
    "For example, given the following edges:"
   ]
  },
  {
   "cell_type": "code",
   "execution_count": null,
   "metadata": {},
   "outputs": [],
   "source": [
    "4 6\n",
    "1 2 5\n",
    "1 3 3\n",
    "4 1 6\n",
    "2 4 7\n",
    "3 2 4\n",
    "3 4 5\n",
    "Sample Output 1\n",
    "\n",
    "12"
   ]
  },
  {
   "cell_type": "code",
   "execution_count": null,
   "metadata": {},
   "outputs": [],
   "source": [
    "5 7\n",
    "1 2 20\n",
    "1 3 50\n",
    "1 4 70\n",
    "1 5 90\n",
    "2 3 30\n",
    "3 4 40\n",
    "4 5 60\n",
    "Sample Output 2\n",
    "\n",
    "150"
   ]
  },
  {
   "cell_type": "markdown",
   "metadata": {},
   "source": [
    "`Kruskal algorithm`\n",
    "* Algorithm: repeatedly add to X the next lightest edge e that doesn’t produce a cycle\n",
    "* At any point of time, the set X is a forest, that is, a collection of trees\n",
    "* The next edge e connects two different trees—say, T1 and T2\n",
    "* The edge e is the lightest between T1 and V − T1, hence adding e is safe"
   ]
  },
  {
   "cell_type": "code",
   "execution_count": 4,
   "metadata": {},
   "outputs": [
    {
     "data": {
      "text/plain": [
       "{1, 2, 3, 4, 5}"
      ]
     },
     "execution_count": 4,
     "metadata": {},
     "output_type": "execute_result"
    }
   ],
   "source": [
    "{1,2,3}|{4,5,2}"
   ]
  },
  {
   "cell_type": "code",
   "execution_count": 8,
   "metadata": {},
   "outputs": [
    {
     "name": "stdout",
     "output_type": "stream",
     "text": [
      "4 6\n",
      "1 2 5 1 3 3 4 1 6 2 4 7 3 2 4 3 4 5\n",
      "12\n",
      "5 7\n",
      "1 2 20 1 3 50 1 4 70 1 5 90 2 3 30 3 4 40 4 5 60\n",
      "150\n"
     ]
    }
   ],
   "source": [
    "from operator import itemgetter\n",
    "\n",
    "def Kruskal(V,edges):\n",
    "    mstsum=0\n",
    "    edges=sorted(edges,key=itemgetter(2)) ##sort by the weights of edge\n",
    "    while (len(edges)>0):\n",
    "        edge = edges[0]\n",
    "        if (edge[0] not in V[edge[1]]) or (edge[1] not in V[edge[0]]): # vertices not connected\n",
    "            V[edge[0]]=V[edge[0]] | V[edge[1]] # update reachable elements from bth nodes\n",
    "            V[edge[1]]=V[edge[0]] #both are connected components, so just same reachable nodes from there\n",
    "            for i in V[edge[0]]: #updating all other reachable nodes from 1\n",
    "                V[i]=V[edge[0]]\n",
    "            mstsum+=edge[2]\n",
    "        edges.pop(0)\n",
    "    print(mstsum)\n",
    "\n",
    "for testcase in range(2):\n",
    "    '''note that vertices are numbered from 1 to N'''\n",
    "    N,M=map(int,input().split())\n",
    "    edges=[]\n",
    "    edges_ = list(map(int,input().strip().split()))\n",
    "    fro = edges_[::3]\n",
    "    to = edges_[1::3]\n",
    "    weights = edges_[2::3]\n",
    "    edges = [[fro[i],to[i],weights[i]] for i in range(len(fro))]\n",
    "    # for m in xrange(M):\n",
    "    #     edges.append(list(map(int,input().split())))\n",
    "    start=1\n",
    "    V=[]\n",
    "    for i in range(0,N+1):\n",
    "        V.append(set([i]))\n",
    "    Kruskal(V,edges)"
   ]
  },
  {
   "cell_type": "code",
   "execution_count": null,
   "metadata": {},
   "outputs": [],
   "source": []
  }
 ],
 "metadata": {
  "kernelspec": {
   "display_name": "Python 3",
   "language": "python",
   "name": "python3"
  },
  "language_info": {
   "codemirror_mode": {
    "name": "ipython",
    "version": 3
   },
   "file_extension": ".py",
   "mimetype": "text/x-python",
   "name": "python",
   "nbconvert_exporter": "python",
   "pygments_lexer": "ipython3",
   "version": "3.6.5"
  }
 },
 "nbformat": 4,
 "nbformat_minor": 2
}
