{
 "cells": [
  {
   "cell_type": "code",
   "execution_count": 10,
   "metadata": {},
   "outputs": [],
   "source": [
    "class Graph: \n",
    "    def __init__(self, r, c, g): \n",
    "        self.row = r \n",
    "        self.col = c \n",
    "        self.grid = g \n",
    "  \n",
    "    def isSafe(self, i, j, visited): \n",
    "        return (i >= 0 and i < self.row and j >= 0 and j < self.col and not visited[i][j] and self.grid[i][j]) \n",
    "              \n",
    "  \n",
    "    # only consider the 8 neighbours as adjacent vertices \n",
    "    def DFS(self, i, j, visited,count): \n",
    "        rnum = [-1, -1, -1,  0, 0,  1, 1, 1]\n",
    "        cnum = [-1,  0,  1, -1, 1, -1, 0, 1] \n",
    "        visited[i][j] = True\n",
    "  \n",
    "        for k in range(8): \n",
    "            if self.isSafe(i + rnum[k], j + cnum[k], visited): \n",
    "                count+=self.DFS(i + rnum[k], j + cnum[k], visited,1) \n",
    "        return count\n",
    "                \n",
    "    def countIslands(self): \n",
    "        visited = [[0 for j in range(self.col)]for i in range(self.row)] \n",
    "  \n",
    "        # Initialize num_islands as 0 and travese through the all cells of given matrix \n",
    "        num_islands = 0\n",
    "        for i in range(self.row): \n",
    "            for j in range(self.col): \n",
    "                # If a cell with value 1 is not visited yet,then new island found \n",
    "                if (not visited[i][j]) and self.grid[i][j] == 1: \n",
    "                    # Visit all cells in this island and increment island num_islands\n",
    "                    self.DFS(i, j, visited) \n",
    "                    num_islands += 1\n",
    "  \n",
    "        return num_islands\n",
    "\n",
    "    def largestIslands(self):\n",
    "        visited = [[0]*(self.col) for i in range(self.row)]\n",
    "        largest = 0\n",
    "        for i in range(self.row):\n",
    "            for j in range(self.col):\n",
    "                if (not visited[i][j]) and self.grid[i][j] == 1: \n",
    "                    largest = max(largest,self.DFS(i, j, visited,1))\n",
    "        return largest\n",
    "        \n"
   ]
  },
  {
   "cell_type": "code",
   "execution_count": 11,
   "metadata": {},
   "outputs": [
    {
     "name": "stdout",
     "output_type": "stream",
     "text": [
      "4 4 \n",
      "1 1 0 0\n",
      "0 1 1 0\n",
      "0 0 1 0 \n",
      "1 0 0 0\n",
      "5\n"
     ]
    }
   ],
   "source": [
    "  \n",
    "if __name__ == '__main__':\n",
    "    r,c = map(int,input().strip().split())\n",
    "\n",
    "    grid = []\n",
    "\n",
    "    for _ in range(r):\n",
    "        grid.append(list(map(int, input().strip().split())))\n",
    "\n",
    "    grph = Graph(r,c,grid)\n",
    "    print(grph.largestIslands())"
   ]
  },
  {
   "cell_type": "code",
   "execution_count": null,
   "metadata": {},
   "outputs": [],
   "source": [
    "4 4\n",
    "1 1 0 0\n",
    "0 1 1 0\n",
    "0 0 1 0\n",
    "1 0 0 0\n",
    "\n",
    "output = 5\n",
    "\n",
    "5\n",
    "4\n",
    "0 0 1 1\n",
    "0 0 1 0\n",
    "0 1 1 0\n",
    "0 1 0 0\n",
    "1 1 0 0\n",
    "\n",
    "output =8\n",
    "\n",
    "5\n",
    "5\n",
    "1 0 1 1 0\n",
    "1 1 0 0 1\n",
    "0 1 1 1 0\n",
    "0 0 0 0 1\n",
    "1 1 1 0 0\n",
    "Your Output (stdout)\n",
    "10"
   ]
  }
 ],
 "metadata": {
  "kernelspec": {
   "display_name": "Python 3",
   "language": "python",
   "name": "python3"
  },
  "language_info": {
   "codemirror_mode": {
    "name": "ipython",
    "version": 3
   },
   "file_extension": ".py",
   "mimetype": "text/x-python",
   "name": "python",
   "nbconvert_exporter": "python",
   "pygments_lexer": "ipython3",
   "version": "3.6.5"
  }
 },
 "nbformat": 4,
 "nbformat_minor": 2
}
