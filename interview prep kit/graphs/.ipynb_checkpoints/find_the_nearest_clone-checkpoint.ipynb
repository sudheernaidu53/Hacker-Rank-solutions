{
 "cells": [
  {
   "cell_type": "code",
   "execution_count": 8,
   "metadata": {
    "colab": {
     "base_uri": "https://localhost:8080/",
     "height": 374
    },
    "colab_type": "code",
    "id": "08sq_EqtCUS6",
    "outputId": "4a77f0b3-6f4f-47b1-94cf-d354f5c9c367"
   },
   "outputs": [
    {
     "name": "stdout",
     "output_type": "stream",
     "text": [
      "4 3\n",
      "1 2 1 3 4 2\n",
      "1 2 3 4\n",
      "2\n",
      "-1 \n",
      "next one\n",
      "\n",
      "4 3\n",
      "1 2 1 3 4 2\n",
      "1 2 1 1\n",
      "1\n",
      "1 \n",
      "next one\n",
      "\n",
      "5 4\n",
      "1 2 1 3 2 4 3 5\n",
      "1 2 3 3 2\n",
      "3\n",
      "3 \n",
      "next one\n",
      "\n"
     ]
    }
   ],
   "source": [
    "\n",
    "class Graph(object):\n",
    "    def __init__(self):\n",
    "        self.graph = {}\n",
    "        self.color = {}\n",
    " \n",
    "    def add_edge(self, u, v):\n",
    "        self.graph.setdefault(u, []).append(v)\n",
    " \n",
    "    def set_color(self, u, color):\n",
    "        self.color[u] = color\n",
    " \n",
    "    def bfs(self, s):\n",
    "        distance = 0\n",
    "        color = self.color[s]\n",
    "        visited = [0] * (len(self.graph)+1)\n",
    "        queue = []\n",
    "        queue.append(s)\n",
    "        visited[s] = 1\n",
    "        while queue:\n",
    "            s = queue.pop(0)\n",
    "            distance += 1\n",
    "            for t in self.graph[s]:\n",
    "                if not visited[t]:\n",
    "                    if self.color[t] == color:\n",
    "                        return distance\n",
    "                    queue.append(t)\n",
    "                    visited[t] = 1\n",
    "        return 10**6\n",
    " \n",
    " \n",
    "def findShortest(graph_nodes, graph_from, graph_to, ids, val):\n",
    "    graph = Graph()\n",
    "    for u, v in zip(graph_from, graph_to):\n",
    "        graph.add_edge(u, v)\n",
    "        graph.add_edge(v, u)\n",
    "    for u in range(1, len(ids)+1):\n",
    "        graph.set_color(u, ids[u-1])\n",
    "    min_distance = 10**6\n",
    "    for u in range(1, graph_nodes+1):\n",
    "        if graph.color[u] == val:\n",
    "            min_distance = min(min_distance, graph.bfs(u))\n",
    "    if min_distance == 10**6:\n",
    "        return -1\n",
    "    return min_distance\n",
    "\n",
    "for ha in range(3):\n",
    "    graph_nodes, graph_edges = map(int, input().split())\n",
    "    edges = list(map(int, input().split()))\n",
    "    graph_from = edges[::2]\n",
    "    graph_to = edges[1::2]\n",
    "    ids = list(map(int, input().rstrip().split()))\n",
    "    val = int(input())\n",
    "    ans = findShortest(graph_nodes, graph_from, graph_to, ids, val)\n",
    "    print(ans,'\\nnext one\\n')\n"
   ]
  },
  {
   "cell_type": "code",
   "execution_count": 0,
   "metadata": {
    "colab": {},
    "colab_type": "code",
    "id": "4aYH3YWtCxXo"
   },
   "outputs": [],
   "source": [
    "sample 0 :\n",
    "4 3\n",
    "1 2\n",
    "1 3\n",
    "4 2\n",
    "1 2 3 4\n",
    "2\n",
    "\n",
    "output: -1\n",
    "\n",
    "sample 1:\n",
    "4 3\n",
    "1 2\n",
    "1 3\n",
    "4 2\n",
    "1 2 1 1 \n",
    "1\n",
    "\n",
    "output: 1\n",
    "\n",
    "sample 2:\n",
    "5 4\n",
    "1 2\n",
    "1 3\n",
    "2 4\n",
    "3 5\n",
    "1 2 3 3 2\n",
    "2\n",
    "\n",
    "\n",
    "output:3"
   ]
  }
 ],
 "metadata": {
  "colab": {
   "collapsed_sections": [],
   "name": "find the nearest clone.ipynb",
   "provenance": [],
   "version": "0.3.2"
  },
  "kernelspec": {
   "display_name": "Python 3",
   "language": "python",
   "name": "python3"
  },
  "language_info": {
   "codemirror_mode": {
    "name": "ipython",
    "version": 3
   },
   "file_extension": ".py",
   "mimetype": "text/x-python",
   "name": "python",
   "nbconvert_exporter": "python",
   "pygments_lexer": "ipython3",
   "version": "3.6.5"
  }
 },
 "nbformat": 4,
 "nbformat_minor": 1
}
