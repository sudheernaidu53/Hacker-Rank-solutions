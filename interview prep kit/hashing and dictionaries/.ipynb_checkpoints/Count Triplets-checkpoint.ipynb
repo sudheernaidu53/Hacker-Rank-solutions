{
 "cells": [
  {
   "cell_type": "code",
   "execution_count": null,
   "metadata": {},
   "outputs": [],
   "source": [
    "Complete the countTriplets function in the editor below. It should return the number of triplets forming a geometric progression for a given r as an integer."
   ]
  },
  {
   "cell_type": "code",
   "execution_count": 4,
   "metadata": {},
   "outputs": [
    {
     "name": "stdout",
     "output_type": "stream",
     "text": [
      "0\n"
     ]
    }
   ],
   "source": [
    "# Python3 program to count GP subsequences of size 3.\n",
    "from collections import defaultdict\n",
    "\n",
    "# Returns count of G.P. subseqeunces\n",
    "# with length 3 and common ratio r\n",
    "def subsequences(a, n, r):\n",
    "\n",
    "# hashing to maintain left and right array elements to the main count\n",
    "    left = defaultdict(lambda:0)\n",
    "    right = defaultdict(lambda:0)\n",
    "\n",
    "    # stores the answer\n",
    "    ans = 0\n",
    "\n",
    "    # traverse through the elements\n",
    "    for i in range(0, n):\n",
    "        right[a[i]] += 1 # keep the count in the hash\n",
    "\n",
    "    # traverse through all elements and\n",
    "        # find out the number of elements as k1*k2\n",
    "        for i in range(0, n):\n",
    "\n",
    "            # keep the count of left and right elements\n",
    "            # left is a[i]/r and right a[i]*r\n",
    "            c1, c2 = 0, 0\n",
    "\n",
    "            # if the current element is divisible\n",
    "            # by k, count elements in left hash.\n",
    "            if a[i] % r == 0:\n",
    "                c1 = left[a[i] // r]\n",
    "\n",
    "                # decrease the count in right hash\n",
    "                right[a[i]] -= 1\n",
    "\n",
    "            # number of right elements\n",
    "                c2 = right[a[i] * r]\n",
    "\n",
    "            # calculate the answer\n",
    "        ans += c1 * c2\n",
    "\n",
    "        left[a[i]] += 1 # left count of a[i]\n",
    "\n",
    "    return ans\n",
    "\n",
    "# Driver Code\n",
    "if __name__ == '__main__':\n",
    "\n",
    "    a = [1, 2, 6, 2, 3, 6, 9, 18, 3, 9]\n",
    "    n = len(a)\n",
    "    r = 3\n",
    "    print(subsequences(a, n, r))\n",
    "\n",
    "        # This code is contributed by\n",
    "        # Rituraj Jain"
   ]
  },
  {
   "cell_type": "code",
   "execution_count": null,
   "metadata": {},
   "outputs": [],
   "source": []
  }
 ],
 "metadata": {
  "kernelspec": {
   "display_name": "Python 3",
   "language": "python",
   "name": "python3"
  },
  "language_info": {
   "codemirror_mode": {
    "name": "ipython",
    "version": 3
   },
   "file_extension": ".py",
   "mimetype": "text/x-python",
   "name": "python",
   "nbconvert_exporter": "python",
   "pygments_lexer": "ipython3",
   "version": "3.7.3"
  }
 },
 "nbformat": 4,
 "nbformat_minor": 2
}
