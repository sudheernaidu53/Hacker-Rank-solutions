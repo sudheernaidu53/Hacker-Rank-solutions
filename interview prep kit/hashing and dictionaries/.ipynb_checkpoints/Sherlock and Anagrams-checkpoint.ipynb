{
 "cells": [
  {
   "cell_type": "code",
   "execution_count": null,
   "metadata": {},
   "outputs": [],
   "source": [
    "Two string are anagrams if and only if for every letter occurring in any of them the number of its occurrences is equal in both the strings.\n",
    "This definition is crucial and will lead to the solution. Since the only allowed letters are lowercase English letters, from 'a' to 'z' , the alphabet size is constant and its size is 26. This allows us to assign a constant size signature to each of the substring of s.\n",
    "A signature of some string  will be a tuple of  elements where the i-th element denotes the number of occurrences of the i-th letter of the alphabet in w.\n",
    "So, for example w= mom, if  then its signature is [0, 0, 0, 0, 0, 0, 0, 0, 0, 0, 0, 0, 2, 0, 1, 0, 0, 0, 0, 0, 0, 0, 0, 0, 0, 0], so the only non-zero elements are the ones corresponding to letter 'm' with value of 2 and letter 'o'  with value of 1.\n",
    "Notice, that any string that is an anagram of w will have the same signature as w, and every string that is not an anagram of w will definitely have a different signature.\n",
    "This concept of signatures allows the following approach.\n",
    "Let's iterate over all substrings of s and for each fixed substring let's compute its signature and add that signature to signatures hashmap, where signature[sig] denotes the number of substrings of s with a signature sig.\n",
    "Finally, the only remaining thing to do is to get the number of pairs of substrings of s that are anagrams. It's easy to do having our hashmap. Notice that if there are k substrings of s with signature sig, then they can form k(k-1)/2 pairs of substrings with signature sig, so we can just iterate over all values in the hashmap and for each value k add k(k-1)/2 to the final result.\n",
    "if you're not clear with above point look at this example, following 3 substrings mom,omm,mmo have same signature. so (mmo,mom), (mom,omm), (omm,mmo) make 3 different anagram pairs. which 3C2. choosing 2 out of 3 to make a pair.\n",
    "similarly when a signature has k instances we can choose any 2 in KC2 ways, which is k(k-1)/2"
   ]
  },
  {
   "cell_type": "code",
   "execution_count": 31,
   "metadata": {},
   "outputs": [
    {
     "data": {
      "text/plain": [
       "[0, 0, 0, 0, 0, 0, 0, 0, 0, 0, 0, 0, 2, 0, 1, 0, 0, 0, 0, 0, 0, 0, 0, 0, 0, 0]"
      ]
     },
     "execution_count": 31,
     "metadata": {},
     "output_type": "execute_result"
    }
   ],
   "source": [
    "signature = [0]*26\n",
    "s= 'mom'\n",
    "for letter in s:\n",
    "        signature[ord(letter)-ord('a')] += 1\n",
    "signature"
   ]
  },
  {
   "cell_type": "code",
   "execution_count": 30,
   "metadata": {
    "scrolled": true
   },
   "outputs": [
    {
     "name": "stdout",
     "output_type": "stream",
     "text": [
      "1\n",
      "ifailuhkqq\n",
      "3\n"
     ]
    }
   ],
   "source": [
    "T = int(input())\n",
    "\n",
    "for _ in range(T):\n",
    "    s = input()\n",
    "    signatures = {}\n",
    "\n",
    "    signature = [0]*26\n",
    "    for letter in s:\n",
    "        signature[ord(letter)-ord('a')] += 1\n",
    "\n",
    "    # iterate over all substrings of s\n",
    "    for start in range(len(s)):\n",
    "        for finish in range(start, len(s)):\n",
    "            # initialize substring signature\n",
    "            signature = [0]*26\n",
    "            for letter in s[start:finish+1]:\n",
    "                signature[ord(letter)-ord('a')] += 1\n",
    "            # tuples are hashable in contrast to lists\n",
    "            signature = tuple(signature)\n",
    "            signatures[signature] = signatures.get(signature,0) + 1\n",
    "    res = 0\n",
    "    for count in signatures.values():\n",
    "        res += count*(count-1)/2\n",
    "    print (int(res))\n",
    "#     print(signatures)"
   ]
  },
  {
   "cell_type": "code",
   "execution_count": 34,
   "metadata": {
    "scrolled": true
   },
   "outputs": [
    {
     "data": {
      "text/plain": [
       "'a'"
      ]
     },
     "execution_count": 34,
     "metadata": {},
     "output_type": "execute_result"
    }
   ],
   "source": [
    "chr(ord('a'))"
   ]
  },
  {
   "cell_type": "code",
   "execution_count": 35,
   "metadata": {},
   "outputs": [
    {
     "data": {
      "text/plain": [
       "'0b1100100'"
      ]
     },
     "execution_count": 35,
     "metadata": {},
     "output_type": "execute_result"
    }
   ],
   "source": [
    "bin(100)"
   ]
  },
  {
   "cell_type": "code",
   "execution_count": 36,
   "metadata": {},
   "outputs": [
    {
     "data": {
      "text/plain": [
       "100"
      ]
     },
     "execution_count": 36,
     "metadata": {},
     "output_type": "execute_result"
    }
   ],
   "source": [
    "int(bin(100),2)"
   ]
  },
  {
   "cell_type": "code",
   "execution_count": null,
   "metadata": {},
   "outputs": [],
   "source": []
  }
 ],
 "metadata": {
  "kernelspec": {
   "display_name": "Python 3",
   "language": "python",
   "name": "python3"
  },
  "language_info": {
   "codemirror_mode": {
    "name": "ipython",
    "version": 3
   },
   "file_extension": ".py",
   "mimetype": "text/x-python",
   "name": "python",
   "nbconvert_exporter": "python",
   "pygments_lexer": "ipython3",
   "version": "3.7.3"
  }
 },
 "nbformat": 4,
 "nbformat_minor": 2
}
