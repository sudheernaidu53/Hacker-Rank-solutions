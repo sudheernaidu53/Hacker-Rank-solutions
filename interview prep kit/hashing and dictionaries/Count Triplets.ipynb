{
 "cells": [
  {
   "cell_type": "code",
   "execution_count": null,
   "metadata": {},
   "outputs": [],
   "source": [
    "Complete the countTriplets function in the editor below. It should return the number of triplets forming a geometric progression for a given r as an integer."
   ]
  },
  {
   "cell_type": "code",
   "execution_count": null,
   "metadata": {},
   "outputs": [],
   "source": [
    "A naive approach is to use three nested for loops and check for every subsequence with length 3 and keep a count of the subsequences. The complexity is O(n3).\n",
    "\n",
    "An efficient approach is to solve the problem for fixed middle element of progression. This means that if we fix element a[i] as middle, then it must be \n",
    "multiple of r, and a[i]/r and a[i]*r must be present. We count number of occurrences of a[i]/r and a[i]*r and then multiply the counts. To do this, we can use \n",
    "concept of hashing where we store the count of all possible elements in two hash maps, one indicating the number of elements in the left and the other indicating \n",
    "the number of elements to the right."
   ]
  },
  {
   "cell_type": "code",
   "execution_count": 13,
   "metadata": {},
   "outputs": [],
   "source": [
    "d = {}\n",
    "for i in range(10):\n",
    "    d[i] = d.get(i,0)+1"
   ]
  },
  {
   "cell_type": "code",
   "execution_count": 14,
   "metadata": {},
   "outputs": [
    {
     "data": {
      "text/plain": [
       "{0: 1, 1: 1, 2: 1, 3: 1, 4: 1, 5: 1, 6: 1, 7: 1, 8: 1, 9: 1}"
      ]
     },
     "execution_count": 14,
     "metadata": {},
     "output_type": "execute_result"
    }
   ],
   "source": [
    "d"
   ]
  },
  {
   "cell_type": "code",
   "execution_count": 17,
   "metadata": {},
   "outputs": [
    {
     "name": "stdout",
     "output_type": "stream",
     "text": [
      "1 3 9 9 27 81\n",
      "3\n",
      "6\n"
     ]
    }
   ],
   "source": [
    "# arr = []\n",
    "# k = 0\n",
    "arr = list(map(int,input().strip().split()))\n",
    "n = len(arr)\n",
    "k = int(input())\n",
    "r_dict = dict()\n",
    "l_dict = dict()\n",
    "num_trip = 0\n",
    "for i in arr:\n",
    "#     print(i)\n",
    "    r_dict[i] = r_dict.get(i,0)+1\n",
    "for i in range(n):\n",
    "    r_dict[i] = r_dict.get(arr[i],0)-1\n",
    "    if not(arr[i]%k):\n",
    "        num_trip+=(l_dict.get(arr[i]/k,0)*r_dict.get(arr[i]*k,0))\n",
    "    l_dict[arr[i]] = l_dict.get(arr[i],0)+1\n",
    "print(num_trip)"
   ]
  },
  {
   "cell_type": "code",
   "execution_count": 19,
   "metadata": {},
   "outputs": [
    {
     "name": "stdout",
     "output_type": "stream",
     "text": [
      "6\n"
     ]
    }
   ],
   "source": [
    "# Python3 program to count GP subsequences of size 3.\n",
    "from collections import defaultdict\n",
    "\n",
    "def subsequences(a, n, r):\n",
    "\n",
    "    left = defaultdict(lambda:0)\n",
    "    right = defaultdict(lambda:0)\n",
    "\n",
    "    # stores the answer\n",
    "    ans = 0\n",
    "\n",
    "    # traverse through the elements\n",
    "    for i in range(0, n):\n",
    "        right[a[i]] += 1 # keep the count in the hash\n",
    "\n",
    "    for i in range(0, n):\n",
    "        c1, c2 = 0, 0\n",
    "\n",
    "        if a[i] % r == 0:\n",
    "            c1 = left[a[i] // r]\n",
    "            right[a[i]] -= 1\n",
    "            c2 = right[a[i] * r]\n",
    "\n",
    "        # calculate the answer\n",
    "        ans += c1 * c2\n",
    "\n",
    "        left[a[i]] += 1 # left count of a[i]\n",
    "\n",
    "    return ans\n",
    "\n",
    "# Driver Code\n",
    "if __name__ == '__main__':\n",
    "\n",
    "    a = [1, 2, 6, 2, 3, 6, 9, 18, 3, 9]\n",
    "    n = len(a)\n",
    "    r = 3\n",
    "    print(subsequences(a, n, r))\n",
    "\n",
    "        # This code is contributed by\n",
    "        # Rituraj Jain"
   ]
  },
  {
   "cell_type": "code",
   "execution_count": null,
   "metadata": {},
   "outputs": [],
   "source": []
  }
 ],
 "metadata": {
  "kernelspec": {
   "display_name": "Python 3",
   "language": "python",
   "name": "python3"
  },
  "language_info": {
   "codemirror_mode": {
    "name": "ipython",
    "version": 3
   },
   "file_extension": ".py",
   "mimetype": "text/x-python",
   "name": "python",
   "nbconvert_exporter": "python",
   "pygments_lexer": "ipython3",
   "version": "3.7.3"
  }
 },
 "nbformat": 4,
 "nbformat_minor": 2
}
