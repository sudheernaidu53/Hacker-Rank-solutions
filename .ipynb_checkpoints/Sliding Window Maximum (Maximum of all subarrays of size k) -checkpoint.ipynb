{
 "cells": [
  {
   "cell_type": "markdown",
   "metadata": {},
   "source": [
    "# Sliding Window Maximum (Maximum of all subarrays of size k) \n"
   ]
  },
  {
   "cell_type": "code",
   "execution_count": 3,
   "metadata": {},
   "outputs": [
    {
     "name": "stdout",
     "output_type": "stream",
     "text": [
      "deque([]) at index 0\n",
      "deque([0]) at index 0\n",
      "deque([0]) at index 1\n",
      "deque([0, 1]) at index 1\n",
      "deque([]) at index 2\n",
      "deque([2]) at index 2\n",
      "78 90 90 90 89\n"
     ]
    }
   ],
   "source": [
    "# Python program to find the maximum for \n",
    "# each and every contiguous subarray of \n",
    "# size k \n",
    "\n",
    "from collections import deque \n",
    "\n",
    "# A Deque (Double ended queue) based \n",
    "# method for printing maximum element \n",
    "# of all subarrays of size k \n",
    "def printMax(arr, n, k): \n",
    "\t\n",
    "\t\"\"\" Create a Double Ended Queue, Qi that \n",
    "\twill store indexes of array elements. \n",
    "\tThe queue will store indexes of useful \n",
    "\telements in every window and it will \n",
    "\tmaintain decreasing order of values from \n",
    "\tfront to rear in Qi, i.e., arr[Qi.front[]] \n",
    "\tto arr[Qi.rear()] are sorted in decreasing \n",
    "\torder\"\"\"\n",
    "\tQi = deque() \n",
    "\t\n",
    "\t# Process first k (or first window) \n",
    "\t# elements of array \n",
    "\tfor i in range(k): \n",
    "\t\t\n",
    "\t\t# For every element, the previous \n",
    "\t\t# smaller elements are useless \n",
    "\t\t# so remove them from Qi \n",
    "\t\twhile Qi and arr[i] >= arr[Qi[-1]] : \n",
    "\t\t\tQi.pop() \n",
    "\t\tprint(Qi,'at index',i)\n",
    "\t\t# Add new element at rear of queue \n",
    "\t\tQi.append(i); \n",
    "\t\tprint(Qi,'at index',i)\n",
    "\t# Process rest of the elements, i.e. \n",
    "\t# from arr[k] to arr[n-1] \n",
    "\tfor i in range(k, n): \n",
    "\t\t\n",
    "\t\t# The element at the front of the \n",
    "\t\t# queue is the largest element of \n",
    "\t\t# previous window, so print it \n",
    "\t\tprint(str(arr[Qi[0]]) + \" \", end = \"\") \n",
    "\t\t\n",
    "\t\t# Remove the elements which are \n",
    "\t\t# out of this window \n",
    "\t\twhile Qi and Qi[0] <= i-k: \n",
    "\t\t\t\n",
    "\t\t\t# remove from front of deque \n",
    "\t\t\tQi.popleft() \n",
    "\t\t\n",
    "\t\t# Remove all elements smaller than \n",
    "\t\t# the currently being added element \n",
    "\t\t# (Remove useless elements) \n",
    "\t\twhile Qi and arr[i] >= arr[Qi[-1]] : \n",
    "\t\t\tQi.pop() \n",
    "\t\t\n",
    "\t\t# Add current element at the rear of Qi \n",
    "\t\tQi.append(i) \n",
    "\t\n",
    "\t# Print the maximum element of last window \n",
    "\tprint(str(arr[Qi[0]])) \n",
    "\t\n",
    "# Driver programm to test above fumctions \n",
    "if __name__==\"__main__\": \n",
    "\tarr = [12, 1, 78, 90, 57, 89, 56] \n",
    "\tk = 3\n",
    "\tprintMax(arr, len(arr), k) \n",
    "\t\n",
    "# This code is contributed by Shiv Shankar \n"
   ]
  },
  {
   "cell_type": "code",
   "execution_count": 7,
   "metadata": {},
   "outputs": [],
   "source": [
    "temp_q = deque()"
   ]
  },
  {
   "cell_type": "code",
   "execution_count": 8,
   "metadata": {},
   "outputs": [
    {
     "data": {
      "text/plain": [
       "deque([10])"
      ]
     },
     "execution_count": 8,
     "metadata": {},
     "output_type": "execute_result"
    }
   ],
   "source": [
    "temp_q.append(10)\n",
    "temp_q"
   ]
  },
  {
   "cell_type": "code",
   "execution_count": 9,
   "metadata": {},
   "outputs": [
    {
     "data": {
      "text/plain": [
       "deque([10, 11])"
      ]
     },
     "execution_count": 9,
     "metadata": {},
     "output_type": "execute_result"
    }
   ],
   "source": [
    "temp_q.append(11)\n",
    "temp_q"
   ]
  },
  {
   "cell_type": "code",
   "execution_count": 11,
   "metadata": {},
   "outputs": [
    {
     "data": {
      "text/plain": [
       "deque([10])"
      ]
     },
     "execution_count": 11,
     "metadata": {},
     "output_type": "execute_result"
    }
   ],
   "source": [
    "temp_q.pop()\n",
    "temp_q"
   ]
  },
  {
   "cell_type": "code",
   "execution_count": 12,
   "metadata": {},
   "outputs": [
    {
     "data": {
      "text/plain": [
       "deque([10, 11])"
      ]
     },
     "execution_count": 12,
     "metadata": {},
     "output_type": "execute_result"
    }
   ],
   "source": [
    "temp_q.append(11)\n",
    "temp_q"
   ]
  },
  {
   "cell_type": "code",
   "execution_count": 14,
   "metadata": {},
   "outputs": [
    {
     "data": {
      "text/plain": [
       "deque([11])"
      ]
     },
     "execution_count": 14,
     "metadata": {},
     "output_type": "execute_result"
    }
   ],
   "source": [
    "temp_q.popleft()\n",
    "temp_q"
   ]
  },
  {
   "cell_type": "code",
   "execution_count": null,
   "metadata": {},
   "outputs": [],
   "source": []
  }
 ],
 "metadata": {
  "kernelspec": {
   "display_name": "Python 3",
   "language": "python",
   "name": "python3"
  },
  "language_info": {
   "codemirror_mode": {
    "name": "ipython",
    "version": 3
   },
   "file_extension": ".py",
   "mimetype": "text/x-python",
   "name": "python",
   "nbconvert_exporter": "python",
   "pygments_lexer": "ipython3",
   "version": "3.7.3"
  }
 },
 "nbformat": 4,
 "nbformat_minor": 2
}
